{
  "nbformat": 4,
  "nbformat_minor": 0,
  "metadata": {
    "colab": {
      "provenance": [],
      "gpuType": "T4"
    },
    "kernelspec": {
      "name": "python3",
      "display_name": "Python 3"
    },
    "language_info": {
      "name": "python"
    },
    "accelerator": "GPU"
  },
  "cells": [
    {
      "cell_type": "code",
      "source": [
        "!pip install pygad"
      ],
      "metadata": {
        "colab": {
          "base_uri": "https://localhost:8080/"
        },
        "id": "QIjZi2oa2uXM",
        "outputId": "f9ac53b9-b12f-4eed-8957-c16c8367e4e1"
      },
      "execution_count": 38,
      "outputs": [
        {
          "output_type": "stream",
          "name": "stdout",
          "text": [
            "Requirement already satisfied: pygad in /usr/local/lib/python3.11/dist-packages (3.4.0)\n",
            "Requirement already satisfied: cloudpickle in /usr/local/lib/python3.11/dist-packages (from pygad) (3.1.1)\n",
            "Requirement already satisfied: matplotlib in /usr/local/lib/python3.11/dist-packages (from pygad) (3.10.0)\n",
            "Requirement already satisfied: numpy in /usr/local/lib/python3.11/dist-packages (from pygad) (2.0.2)\n",
            "Requirement already satisfied: contourpy>=1.0.1 in /usr/local/lib/python3.11/dist-packages (from matplotlib->pygad) (1.3.2)\n",
            "Requirement already satisfied: cycler>=0.10 in /usr/local/lib/python3.11/dist-packages (from matplotlib->pygad) (0.12.1)\n",
            "Requirement already satisfied: fonttools>=4.22.0 in /usr/local/lib/python3.11/dist-packages (from matplotlib->pygad) (4.57.0)\n",
            "Requirement already satisfied: kiwisolver>=1.3.1 in /usr/local/lib/python3.11/dist-packages (from matplotlib->pygad) (1.4.8)\n",
            "Requirement already satisfied: packaging>=20.0 in /usr/local/lib/python3.11/dist-packages (from matplotlib->pygad) (24.2)\n",
            "Requirement already satisfied: pillow>=8 in /usr/local/lib/python3.11/dist-packages (from matplotlib->pygad) (11.1.0)\n",
            "Requirement already satisfied: pyparsing>=2.3.1 in /usr/local/lib/python3.11/dist-packages (from matplotlib->pygad) (3.2.3)\n",
            "Requirement already satisfied: python-dateutil>=2.7 in /usr/local/lib/python3.11/dist-packages (from matplotlib->pygad) (2.8.2)\n",
            "Requirement already satisfied: six>=1.5 in /usr/local/lib/python3.11/dist-packages (from python-dateutil>=2.7->matplotlib->pygad) (1.17.0)\n"
          ]
        }
      ]
    },
    {
      "cell_type": "code",
      "execution_count": 39,
      "metadata": {
        "id": "HMc84DsuctC9"
      },
      "outputs": [],
      "source": [
        "import pygad\n",
        "import numpy as np\n",
        "import matplotlib.pyplot as plt"
      ]
    },
    {
      "cell_type": "code",
      "source": [
        "# Define fitness function\n",
        "# Imagine, we have 14 goods that have such weights and prices\n",
        "\n",
        "weights = [4, 2, 2, 1, 3, 8, 12, 3, 6, 5, 5, 10, 11, 13]\n",
        "prices = [ 3000, 2000, 2500, 1000, 1200, 800, 8850, 5500, 3200, 18000, 4500, 1900, 8500, 10000]\n",
        "max_weight = 17 # Maximum weight that can takes a backpack"
      ],
      "metadata": {
        "id": "SVA76zqCdmU2"
      },
      "execution_count": 40,
      "outputs": []
    },
    {
      "cell_type": "code",
      "source": [
        "# Fitness function\n",
        "def fitness_func(ga_instance, solution, solution_idx):\n",
        "    total_weight = np.sum(solution*weights)\n",
        "    total_price = np.sum(solution * prices)\n",
        "    # If the weight exceeded - a fine\n",
        "    if total_weight > max_weight:\n",
        "        return 0\n",
        "    return total_price"
      ],
      "metadata": {
        "id": "fpkgzJ6mfb0q"
      },
      "execution_count": 41,
      "outputs": []
    },
    {
      "cell_type": "code",
      "source": [
        "# Initial population - we can create it avtomatically\n",
        "# Set the parameters of the genetic algorithm\n",
        "num_generations = 100     # the quantity of generations\n",
        "num_parents_mating = 8    # How many parents will be in the crossover\n",
        "sol_per_pop = 10          # The size of population\n",
        "num_genes = len(weights)  # Quantity of gens = quantity of goods\n",
        "\n",
        "# Gene boundaries 0 or 1 take the products or don't take the products\n",
        "gene_space = [0,1]"
      ],
      "metadata": {
        "id": "bcfVggDmgNTP"
      },
      "execution_count": 42,
      "outputs": []
    },
    {
      "cell_type": "code",
      "source": [
        "ga_instance = pygad.GA(\n",
        "    suppress_warnings=True,\n",
        "    gene_space=gene_space,\n",
        "    num_generations=num_generations,\n",
        "    num_parents_mating=num_parents_mating,\n",
        "    fitness_func=fitness_func,\n",
        "    sol_per_pop=sol_per_pop,\n",
        "    num_genes=num_genes,\n",
        "    parent_selection_type='rank',       # Type of parent selection\n",
        "    crossover_type='single_point',      # Type of crossover\n",
        "    mutation_type='random',             # Type of mutation\n",
        "    mutation_percent_genes=15           # The percents for mutation\n",
        ")"
      ],
      "metadata": {
        "id": "gLCpIz4JiK1L"
      },
      "execution_count": 43,
      "outputs": []
    },
    {
      "cell_type": "code",
      "source": [
        "# Learning\n",
        "ga_instance.run()"
      ],
      "metadata": {
        "id": "czzQ1ZbSj2pf"
      },
      "execution_count": 44,
      "outputs": []
    },
    {
      "cell_type": "code",
      "source": [
        "# Show results\n",
        "solution, solution_fitness, solution_idx = ga_instance.best_solution()\n",
        "print(f'The best solution: {solution}')\n",
        "print(f'Total cost of goods in the backpack: {solution_fitness}')\n",
        "print(f'Total weight of goods: {np.sum(solution * weights)}')"
      ],
      "metadata": {
        "colab": {
          "base_uri": "https://localhost:8080/"
        },
        "id": "9TdYMrxdj7__",
        "outputId": "b85e7c3b-833b-465b-87ba-b9240a4a3914"
      },
      "execution_count": 45,
      "outputs": [
        {
          "output_type": "stream",
          "name": "stdout",
          "text": [
            "The best solution: [0. 1. 1. 0. 0. 0. 0. 1. 0. 1. 1. 0. 0. 0.]\n",
            "Total cost of goods in the backpack: 32500.0\n",
            "Total weight of goods: 17.0\n"
          ]
        }
      ]
    },
    {
      "cell_type": "code",
      "source": [
        "fig = ga_instance.plot_fitness()\n",
        "plt.show()"
      ],
      "metadata": {
        "colab": {
          "base_uri": "https://localhost:8080/",
          "height": 478
        },
        "id": "WqWprw1mpEKw",
        "outputId": "40f632fb-2a7c-4fd6-9555-dff710932290"
      },
      "execution_count": 46,
      "outputs": [
        {
          "output_type": "display_data",
          "data": {
            "text/plain": [
              "<Figure size 640x480 with 1 Axes>"
            ],
            "image/png": "[encoded data removed]"
          },
          "metadata": {}
        }
      ]
    },
    {
      "cell_type": "markdown",
      "source": [
        "**CONCLUSIONS:**\n",
        "\n",
        "The genetic algorithm effectively solved the knapsack problem by maximizing the total value without exceeding the weight limit. Proper fitness function design, along with well-tuned parameters for selection, crossover, and mutation, significantly improved the results across generations. PyGAD proved to be a flexible and efficient tool for implementing evolutionary optimization."
      ],
      "metadata": {
        "id": "RAKbkmDV4avK"
      }
    }
  ]
}