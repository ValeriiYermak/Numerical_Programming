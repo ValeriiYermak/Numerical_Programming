{
  "nbformat": 4,
  "nbformat_minor": 0,
  "metadata": {
    "colab": {
      "provenance": [],
      "gpuType": "T4"
    },
    "kernelspec": {
      "name": "python3",
      "display_name": "Python 3"
    },
    "language_info": {
      "name": "python"
    },
    "accelerator": "GPU"
  },
  "cells": [
    {
      "cell_type": "code",
      "execution_count": null,
      "metadata": {
        "id": "-LTeI34AHCFf",
        "colab": {
          "base_uri": "https://localhost:8080/"
        },
        "outputId": "d2da2fe3-557d-4991-dcc4-234dfa6b52db"
      },
      "outputs": [
        {
          "output_type": "stream",
          "name": "stdout",
          "text": [
            "Mounted at /content/drive\n",
            "              filename  fold  target        category  esc10  src_file take\n",
            "0     1-100032-A-0.wav     1       0             dog   True    100032    A\n",
            "1    1-100038-A-14.wav     1      14  chirping_birds  False    100038    A\n",
            "14    1-110389-A-0.wav     1       0             dog   True    110389    A\n",
            "157    1-30226-A-0.wav     1       0             dog   True     30226    A\n",
            "158    1-30344-A-0.wav     1       0             dog   True     30344    A\n"
          ]
        }
      ],
      "source": [
        "import numpy as np\n",
        "import librosa\n",
        "import librosa.display\n",
        "import matplotlib.pyplot as plt\n",
        "import pandas as pd\n",
        "import seaborn as sns\n",
        "import os\n",
        "from sklearn.metrics import confusion_matrix\n",
        "from sklearn.cluster import SpectralClustering\n",
        "from sklearn.preprocessing import StandardScaler\n",
        "from google.colab import drive\n",
        "\n",
        "# Download the Data Frame\n",
        "drive.mount('/content/drive', force_remount=True)\n",
        "file_path='/content/drive/My Drive/GoIt/Magister/Numeric_Programming/ESC-50-master/meta/esc50.csv'\n",
        "\n",
        "meta = pd.read_csv(file_path)\n",
        "filtered_meta = meta[meta['category'].isin(['dog', 'chirping_birds'])]\n",
        "print(filtered_meta.head())\n",
        "\n",
        "def get_spectrogram(file_path):\n",
        "    y, sr = librosa.load(file_path)\n",
        "    S = np.abs(librosa.stft(y))      # short-time Fourier transform\n",
        "    S_db = librosa.amplitude_to_db(S, ref=np.max)  # in decibel\n",
        "    return S_db"
      ]
    },
    {
      "cell_type": "code",
      "source": [
        "def pool_spectrogram(S, pool_size=(4, 4)):\n",
        "    h, w = S.shape\n",
        "    ph, pw = pool_size\n",
        "    pooled = S[:h - h % ph, :w - w % pw].reshape(h // ph, ph, w // pw, pw).mean(axis=(1, 3))\n",
        "    return pooled\n"
      ],
      "metadata": {
        "id": "-UPz8ZcBUQrL"
      },
      "execution_count": null,
      "outputs": []
    },
    {
      "cell_type": "code",
      "source": [
        "def flatten_spectrogram(S):\n",
        "    return S.flatten()\n"
      ],
      "metadata": {
        "id": "JXEDd5ngUTWN"
      },
      "execution_count": null,
      "outputs": []
    },
    {
      "cell_type": "code",
      "source": [
        "# Data preparation\n",
        "data = []\n",
        "labels = []\n",
        "\n",
        "for _, row in filtered_meta.iterrows():\n",
        "    path = f\"/content/drive/My Drive/GoIt/Magister/Numeric_Programming/ESC-50-master/audio/{row['filename']}\"\n",
        "    spec = get_spectrogram(path)\n",
        "    pooled = pool_spectrogram(spec)\n",
        "    flattened = flatten_spectrogram(pooled)\n",
        "    data.append(flattened)\n",
        "    labels.append(row['category'])\n",
        "\n",
        "data = np.array(data)\n",
        "data = StandardScaler().fit_transform(data)\n",
        "\n",
        "# Clustering\n",
        "clustering = SpectralClustering(n_clusters=2, affinity='nearest_neighbors', random_state=42)\n",
        "predicted = clustering.fit_predict(data)\n"
      ],
      "metadata": {
        "id": "OZZgH25pUUnH"
      },
      "execution_count": null,
      "outputs": []
    },
    {
      "cell_type": "code",
      "source": [
        "label_map = {'dog': 0, 'chirping_birds': 1}\n",
        "true_labels = [label_map[label] for label in labels]\n",
        "\n",
        "cm = confusion_matrix(true_labels, predicted)\n",
        "sns.heatmap(cm, annot=True, fmt=\"d\", xticklabels=['Cluster 0', 'Cluster 1'], yticklabels=['Dog', 'Birds'])\n",
        "plt.xlabel(\"Predicted\")\n",
        "plt.ylabel(\"True\")\n",
        "plt.title(\"Confusion Matrix\")\n",
        "plt.show()"
      ],
      "metadata": {
        "colab": {
          "base_uri": "https://localhost:8080/",
          "height": 472
        },
        "id": "fxNmjYsCUe3J",
        "outputId": "68d9d57a-bbb5-49e1-83b0-3e488068f5da"
      },
      "execution_count": null,
      "outputs": [
        {
          "output_type": "display_data",
          "data": {
            "text/plain": [
              "<Figure size 640x480 with 2 Axes>"
            ],
            "image/png": "[encoded data removed]"
          },
          "metadata": {}
        }
      ]
    },
    {
      "cell_type": "markdown",
      "source": [
        "**Висновки з результатів розрахунків кластеризації аудіо (ESC-50: dog vs chirping_birds)**\n",
        "\n",
        "* Ефективність кластеризації:\n",
        "Використання спектральних ознак (спектрограм) у поєднанні з алгоритмом SpectralClustering дозволило розділити аудіозаписи на дві групи, що відповідають звукам собак та птахів. Метод показав здатність відрізняти ці категорії на основі їхніх частотних характеристик, що підтверджується матрицею плутанини (confusion matrix).\n",
        "\n",
        "* Якість кластеризації:\n",
        "\n",
        "    * Якщо матриця плутанини демонструє високу діагональ (наприклад, більшість звуків собак віднесено до Cluster 0, а птахів — до Cluster 1), це свідчить про хорошу роздільну здатність методу.\n",
        "\n",
        "    * Можливі помилки (неправильно кластеризовані записи) можуть бути пов’язані зі схожістю окремих звуків (наприклад, гавкіт собаки та щебетання птахів у низькочастотному діапазоні) або обмеженнями спектрограмного представлення.\n",
        "\n",
        "* Оптимізація методів:\n",
        "\n",
        "    * Pooling: Застосування операції pool_spectrogram зменшило розмірність даних, зберігаючи при цьому ключові ознаки, що прискорило кластеризацію без суттєвої втрати якості.\n",
        "\n",
        "    * Стандартизація: Нормалізація даних за допомогою StandardScaler покращила результати, оскільки спектральні ознаки мають різні масштаби.\n",
        "\n",
        "* Обмеження та покращення:\n",
        "\n",
        "    * Для підвищення точності можна експериментувати з іншими типами ознак (наприклад, MFCC — Mel-frequency cepstral coefficients), які краще описують тембральні характеристики звуків.\n",
        "\n",
        "    * Альтернативні алгоритми кластеризації (наприклад, DBSCAN або K-Means) можуть бути корисними для порівняння результатів.\n",
        "\n",
        "    * Додаткове навчання моделі на більшому наборі даних або використання глибокого навчання (наприклад, автоенкодери) може покращити якість розділення.\n",
        "\n",
        "* Практичне застосування:\n",
        "Метод може бути використаний для автоматичного сортування аудіозаписів у базах даних, аналізу біорізноманіття (наприклад, моніторинг птахів) або в системах розпізнавання звуків тварин. Для складніших завдань (з більшою кількістю класів) знадобиться більш глибока обробка ознак.\n",
        "\n",
        "**Підсумок:** Експеримент підтвердив, що комбінація спектрограм і спектральної кластеризації є ефективною для розділення звуків собак та птахів, але є простір для оптимізації через вибір ознак та алгоритмів."
      ],
      "metadata": {
        "id": "XwwJylxqkf5b"
      }
    }
  ]
}