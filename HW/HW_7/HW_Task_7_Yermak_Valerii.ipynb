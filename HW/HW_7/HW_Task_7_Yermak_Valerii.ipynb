{
  "nbformat": 4,
  "nbformat_minor": 0,
  "metadata": {
    "colab": {
      "provenance": [],
      "gpuType": "T4"
    },
    "kernelspec": {
      "name": "python3",
      "display_name": "Python 3"
    },
    "language_info": {
      "name": "python"
    },
    "accelerator": "GPU"
  },
  "cells": [
    {
      "cell_type": "code",
      "source": [
        "import pandas as pd\n",
        "import numpy as np\n",
        "import seaborn as sns\n",
        "import re\n",
        "import matplotlib.pyplot as plt\n",
        "import nltk\n",
        "from google.colab import drive\n",
        "from nltk.corpus import stopwords\n",
        "from nltk.tokenize import word_tokenize\n",
        "from nltk.stem import WordNetLemmatizer\n",
        "from sklearn.model_selection import train_test_split\n",
        "from sklearn.feature_extraction.text import CountVectorizer\n",
        "from sklearn.naive_bayes import MultinomialNB\n",
        "from sklearn.metrics import classification_report, confusion_matrix\n",
        "\n",
        "nltk.download('stopwords')\n",
        "nltk.download('punkt')\n",
        "nltk.download('wordnet')"
      ],
      "metadata": {
        "colab": {
          "base_uri": "https://localhost:8080/"
        },
        "id": "41l3TEJr-QGg",
        "outputId": "82f5d42a-fd00-4fbe-ad78-dfdf0d6af066"
      },
      "execution_count": 10,
      "outputs": [
        {
          "output_type": "stream",
          "name": "stderr",
          "text": [
            "[nltk_data] Downloading package stopwords to /root/nltk_data...\n",
            "[nltk_data]   Package stopwords is already up-to-date!\n",
            "[nltk_data] Downloading package punkt to /root/nltk_data...\n",
            "[nltk_data]   Package punkt is already up-to-date!\n",
            "[nltk_data] Downloading package wordnet to /root/nltk_data...\n",
            "[nltk_data]   Package wordnet is already up-to-date!\n"
          ]
        },
        {
          "output_type": "execute_result",
          "data": {
            "text/plain": [
              "True"
            ]
          },
          "metadata": {},
          "execution_count": 10
        }
      ]
    },
    {
      "cell_type": "code",
      "execution_count": 11,
      "metadata": {
        "colab": {
          "base_uri": "https://localhost:8080/"
        },
        "id": "HIiLzJGi8E62",
        "outputId": "bf13560e-f548-4f92-cc84-67ccc883233f"
      },
      "outputs": [
        {
          "output_type": "stream",
          "name": "stdout",
          "text": [
            "Mounted at /content/drive\n"
          ]
        }
      ],
      "source": [
        "# Download the data set\n",
        "drive.mount('/content/drive', force_remount=True)\n",
        "file_path = '/content/drive/My Drive/GoIt/Magister/Numeric_Programming/archive/combined_data.csv'\n"
      ]
    },
    {
      "cell_type": "code",
      "source": [
        "df = pd.read_csv(file_path)\n",
        "print(\"Dataset's form:\", df.shape)\n",
        "df.head()"
      ],
      "metadata": {
        "colab": {
          "base_uri": "https://localhost:8080/",
          "height": 224
        },
        "id": "dz3xIqDG_UiG",
        "outputId": "6a2f3577-5d4e-4724-d7ce-f86e312f1836"
      },
      "execution_count": 12,
      "outputs": [
        {
          "output_type": "stream",
          "name": "stdout",
          "text": [
            "Dataset's form: (83448, 2)\n"
          ]
        },
        {
          "output_type": "execute_result",
          "data": {
            "text/plain": [
              "   label                                               text\n",
              "0      1  ounce feather bowl hummingbird opec moment ala...\n",
              "1      1  wulvob get your medircations online qnb ikud v...\n",
              "2      0   computer connection from cnn com wednesday es...\n",
              "3      1  university degree obtain a prosperous future m...\n",
              "4      0  thanks for all your answers guys i know i shou..."
            ],
            "text/html": [
              "\n",
              "  <div id=\"df-de6fdada-508b-472a-b617-93988e04cc91\" class=\"colab-df-container\">\n",
              "    <div>\n",
              "<style scoped>\n",
              "    .dataframe tbody tr th:only-of-type {\n",
              "        vertical-align: middle;\n",
              "    }\n",
              "\n",
              "    .dataframe tbody tr th {\n",
              "        vertical-align: top;\n",
              "    }\n",
              "\n",
              "    .dataframe thead th {\n",
              "        text-align: right;\n",
              "    }\n",
              "</style>\n",
              "<table border=\"1\" class=\"dataframe\">\n",
              "  <thead>\n",
              "    <tr style=\"text-align: right;\">\n",
              "      <th></th>\n",
              "      <th>label</th>\n",
              "      <th>text</th>\n",
              "    </tr>\n",
              "  </thead>\n",
              "  <tbody>\n",
              "    <tr>\n",
              "      <th>0</th>\n",
              "      <td>1</td>\n",
              "      <td>ounce feather bowl hummingbird opec moment ala...</td>\n",
              "    </tr>\n",
              "    <tr>\n",
              "      <th>1</th>\n",
              "      <td>1</td>\n",
              "      <td>wulvob get your medircations online qnb ikud v...</td>\n",
              "    </tr>\n",
              "    <tr>\n",
              "      <th>2</th>\n",
              "      <td>0</td>\n",
              "      <td>computer connection from cnn com wednesday es...</td>\n",
              "    </tr>\n",
              "    <tr>\n",
              "      <th>3</th>\n",
              "      <td>1</td>\n",
              "      <td>university degree obtain a prosperous future m...</td>\n",
              "    </tr>\n",
              "    <tr>\n",
              "      <th>4</th>\n",
              "      <td>0</td>\n",
              "      <td>thanks for all your answers guys i know i shou...</td>\n",
              "    </tr>\n",
              "  </tbody>\n",
              "</table>\n",
              "</div>\n",
              "    <div class=\"colab-df-buttons\">\n",
              "\n",
              "  <div class=\"colab-df-container\">\n",
              "    <button class=\"colab-df-convert\" onclick=\"convertToInteractive('df-de6fdada-508b-472a-b617-93988e04cc91')\"\n",
              "            title=\"Convert this dataframe to an interactive table.\"\n",
              "            style=\"display:none;\">\n",
              "\n",
              "  <svg xmlns=\"http://www.w3.org/2000/svg\" height=\"24px\" viewBox=\"0 -960 960 960\">\n",
              "    <path d=\"M120-120v-720h720v720H120Zm60-500h600v-160H180v160Zm220 220h160v-160H400v160Zm0 220h160v-160H400v160ZM180-400h160v-160H180v160Zm440 0h160v-160H620v160ZM180-180h160v-160H180v160Zm440 0h160v-160H620v160Z\"/>\n",
              "  </svg>\n",
              "    </button>\n",
              "\n",
              "  <style>\n",
              "    .colab-df-container {\n",
              "      display:flex;\n",
              "      gap: 12px;\n",
              "    }\n",
              "\n",
              "    .colab-df-convert {\n",
              "      background-color: #E8F0FE;\n",
              "      border: none;\n",
              "      border-radius: 50%;\n",
              "      cursor: pointer;\n",
              "      display: none;\n",
              "      fill: #1967D2;\n",
              "      height: 32px;\n",
              "      padding: 0 0 0 0;\n",
              "      width: 32px;\n",
              "    }\n",
              "\n",
              "    .colab-df-convert:hover {\n",
              "      background-color: #E2EBFA;\n",
              "      box-shadow: 0px 1px 2px rgba(60, 64, 67, 0.3), 0px 1px 3px 1px rgba(60, 64, 67, 0.15);\n",
              "      fill: #174EA6;\n",
              "    }\n",
              "\n",
              "    .colab-df-buttons div {\n",
              "      margin-bottom: 4px;\n",
              "    }\n",
              "\n",
              "    [theme=dark] .colab-df-convert {\n",
              "      background-color: #3B4455;\n",
              "      fill: #D2E3FC;\n",
              "    }\n",
              "\n",
              "    [theme=dark] .colab-df-convert:hover {\n",
              "      background-color: #434B5C;\n",
              "      box-shadow: 0px 1px 3px 1px rgba(0, 0, 0, 0.15);\n",
              "      filter: drop-shadow(0px 1px 2px rgba(0, 0, 0, 0.3));\n",
              "      fill: #FFFFFF;\n",
              "    }\n",
              "  </style>\n",
              "\n",
              "    <script>\n",
              "      const buttonEl =\n",
              "        document.querySelector('#df-de6fdada-508b-472a-b617-93988e04cc91 button.colab-df-convert');\n",
              "      buttonEl.style.display =\n",
              "        google.colab.kernel.accessAllowed ? 'block' : 'none';\n",
              "\n",
              "      async function convertToInteractive(key) {\n",
              "        const element = document.querySelector('#df-de6fdada-508b-472a-b617-93988e04cc91');\n",
              "        const dataTable =\n",
              "          await google.colab.kernel.invokeFunction('convertToInteractive',\n",
              "                                                    [key], {});\n",
              "        if (!dataTable) return;\n",
              "\n",
              "        const docLinkHtml = 'Like what you see? Visit the ' +\n",
              "          '<a target=\"_blank\" href=https://colab.research.google.com/notebooks/data_table.ipynb>data table notebook</a>'\n",
              "          + ' to learn more about interactive tables.';\n",
              "        element.innerHTML = '';\n",
              "        dataTable['output_type'] = 'display_data';\n",
              "        await google.colab.output.renderOutput(dataTable, element);\n",
              "        const docLink = document.createElement('div');\n",
              "        docLink.innerHTML = docLinkHtml;\n",
              "        element.appendChild(docLink);\n",
              "      }\n",
              "    </script>\n",
              "  </div>\n",
              "\n",
              "\n",
              "<div id=\"df-ce96a35d-dc4f-4954-b84b-15240ef50ec9\">\n",
              "  <button class=\"colab-df-quickchart\" onclick=\"quickchart('df-ce96a35d-dc4f-4954-b84b-15240ef50ec9')\"\n",
              "            title=\"Suggest charts\"\n",
              "            style=\"display:none;\">\n",
              "\n",
              "<svg xmlns=\"http://www.w3.org/2000/svg\" height=\"24px\"viewBox=\"0 0 24 24\"\n",
              "     width=\"24px\">\n",
              "    <g>\n",
              "        <path d=\"M19 3H5c-1.1 0-2 .9-2 2v14c0 1.1.9 2 2 2h14c1.1 0 2-.9 2-2V5c0-1.1-.9-2-2-2zM9 17H7v-7h2v7zm4 0h-2V7h2v10zm4 0h-2v-4h2v4z\"/>\n",
              "    </g>\n",
              "</svg>\n",
              "  </button>\n",
              "\n",
              "<style>\n",
              "  .colab-df-quickchart {\n",
              "      --bg-color: #E8F0FE;\n",
              "      --fill-color: #1967D2;\n",
              "      --hover-bg-color: #E2EBFA;\n",
              "      --hover-fill-color: #174EA6;\n",
              "      --disabled-fill-color: #AAA;\n",
              "      --disabled-bg-color: #DDD;\n",
              "  }\n",
              "\n",
              "  [theme=dark] .colab-df-quickchart {\n",
              "      --bg-color: #3B4455;\n",
              "      --fill-color: #D2E3FC;\n",
              "      --hover-bg-color: #434B5C;\n",
              "      --hover-fill-color: #FFFFFF;\n",
              "      --disabled-bg-color: #3B4455;\n",
              "      --disabled-fill-color: #666;\n",
              "  }\n",
              "\n",
              "  .colab-df-quickchart {\n",
              "    background-color: var(--bg-color);\n",
              "    border: none;\n",
              "    border-radius: 50%;\n",
              "    cursor: pointer;\n",
              "    display: none;\n",
              "    fill: var(--fill-color);\n",
              "    height: 32px;\n",
              "    padding: 0;\n",
              "    width: 32px;\n",
              "  }\n",
              "\n",
              "  .colab-df-quickchart:hover {\n",
              "    background-color: var(--hover-bg-color);\n",
              "    box-shadow: 0 1px 2px rgba(60, 64, 67, 0.3), 0 1px 3px 1px rgba(60, 64, 67, 0.15);\n",
              "    fill: var(--button-hover-fill-color);\n",
              "  }\n",
              "\n",
              "  .colab-df-quickchart-complete:disabled,\n",
              "  .colab-df-quickchart-complete:disabled:hover {\n",
              "    background-color: var(--disabled-bg-color);\n",
              "    fill: var(--disabled-fill-color);\n",
              "    box-shadow: none;\n",
              "  }\n",
              "\n",
              "  .colab-df-spinner {\n",
              "    border: 2px solid var(--fill-color);\n",
              "    border-color: transparent;\n",
              "    border-bottom-color: var(--fill-color);\n",
              "    animation:\n",
              "      spin 1s steps(1) infinite;\n",
              "  }\n",
              "\n",
              "  @keyframes spin {\n",
              "    0% {\n",
              "      border-color: transparent;\n",
              "      border-bottom-color: var(--fill-color);\n",
              "      border-left-color: var(--fill-color);\n",
              "    }\n",
              "    20% {\n",
              "      border-color: transparent;\n",
              "      border-left-color: var(--fill-color);\n",
              "      border-top-color: var(--fill-color);\n",
              "    }\n",
              "    30% {\n",
              "      border-color: transparent;\n",
              "      border-left-color: var(--fill-color);\n",
              "      border-top-color: var(--fill-color);\n",
              "      border-right-color: var(--fill-color);\n",
              "    }\n",
              "    40% {\n",
              "      border-color: transparent;\n",
              "      border-right-color: var(--fill-color);\n",
              "      border-top-color: var(--fill-color);\n",
              "    }\n",
              "    60% {\n",
              "      border-color: transparent;\n",
              "      border-right-color: var(--fill-color);\n",
              "    }\n",
              "    80% {\n",
              "      border-color: transparent;\n",
              "      border-right-color: var(--fill-color);\n",
              "      border-bottom-color: var(--fill-color);\n",
              "    }\n",
              "    90% {\n",
              "      border-color: transparent;\n",
              "      border-bottom-color: var(--fill-color);\n",
              "    }\n",
              "  }\n",
              "</style>\n",
              "\n",
              "  <script>\n",
              "    async function quickchart(key) {\n",
              "      const quickchartButtonEl =\n",
              "        document.querySelector('#' + key + ' button');\n",
              "      quickchartButtonEl.disabled = true;  // To prevent multiple clicks.\n",
              "      quickchartButtonEl.classList.add('colab-df-spinner');\n",
              "      try {\n",
              "        const charts = await google.colab.kernel.invokeFunction(\n",
              "            'suggestCharts', [key], {});\n",
              "      } catch (error) {\n",
              "        console.error('Error during call to suggestCharts:', error);\n",
              "      }\n",
              "      quickchartButtonEl.classList.remove('colab-df-spinner');\n",
              "      quickchartButtonEl.classList.add('colab-df-quickchart-complete');\n",
              "    }\n",
              "    (() => {\n",
              "      let quickchartButtonEl =\n",
              "        document.querySelector('#df-ce96a35d-dc4f-4954-b84b-15240ef50ec9 button');\n",
              "      quickchartButtonEl.style.display =\n",
              "        google.colab.kernel.accessAllowed ? 'block' : 'none';\n",
              "    })();\n",
              "  </script>\n",
              "</div>\n",
              "    </div>\n",
              "  </div>\n"
            ],
            "application/vnd.google.colaboratory.intrinsic+json": {
              "type": "dataframe",
              "variable_name": "df",
              "summary": "{\n  \"name\": \"df\",\n  \"rows\": 83448,\n  \"fields\": [\n    {\n      \"column\": \"label\",\n      \"properties\": {\n        \"dtype\": \"number\",\n        \"std\": 0,\n        \"min\": 0,\n        \"max\": 1,\n        \"num_unique_values\": 2,\n        \"samples\": [\n          0,\n          1\n        ],\n        \"semantic_type\": \"\",\n        \"description\": \"\"\n      }\n    },\n    {\n      \"column\": \"text\",\n      \"properties\": {\n        \"dtype\": \"string\",\n        \"num_unique_values\": 83446,\n        \"samples\": [\n          \"so hard that he can't find time to write to his friends escapenumberf take good care of him aescapenumber aescapenumber they also threatened to destroy fire away then since you are up commanded frank tell him without words so hard that he can't find time to write to his friends escapenumberf take good care of him so hard that he can't find time to write to his friends escapenumberf take good care of him bat's word was law in some things so molly had to submit and took boo away bow aescapenumber aescapenumberas if he had outgrown them and wanted something manlier he took to the hated as if he had outgrown them and wanted something manlier he took to the hated aescapenumber aescapenumberdown workwomen but wishes us to pay them well and economize in some other the house if you feel sociable and your evenings are always free come to me him near her and flapped her fan vigorously whenever he was in sight which with a bucket of water are not pleased for charlie is too presuming and you do need someone to help instantly laid away for repairs and its disappointed maker devoted his energies to helping aescapenumber aescapenumberhead wisely listening to my moral remarks mrs laurence and laurie paused for amy's aescapenumber escapelong how does she behave escapenumberf asked phebe longing for news but too grateful ants when their hill is disturbed of course half a dozen amiable souls posted to have you get thin and pale you know peggy was a jolly lass how beautiful it is cried fanny the drawer took up the little gray book which was her pride thinking christie when her hostess returned and found her warmed refreshed aescapenumber aescapenumber don't then emil who had got his breath by this time gave aescapenumber aescapenumberthen giving a great spring he shot through the air and landed safely anguish as she cried was himself again but it was evident that his sufferings were not smile and agile motion of every limb old ben carried the bag in one soon to tell her all about it you are your active life has done much in some ways to make a man warming and fill the kettle i'll see to the boy commanded mrs aescapenumber aescapenumberat work the sewing room was quite irresistible and he made himself aescapenumber aescapenumbereye showed that his love trials did not quite blind him to the comic aunt looked sober at first but he was so cool about it she couldn't from heart disease and the slightest excitement might kill us if pat while he curried lita till her coat shone like satin then drove is absent template better for it though the memory of it is still bitter and the cross aescapenumber aescapenumber i find don't be a with an unsparing hand institution had not yet made its rules as fixed as the laws of the medes aescapenumber aescapenumberuncle henry smiled and cuddled his little niece\",\n          \"bull market report lescapenumberkup adovcurrent escapenumber escapenumber day target price escapenumber escapelong steadily climb for the top this sym is gaining momentum adov have released very hot news check this out theorize and call to your brocker right now \"\n        ],\n        \"semantic_type\": \"\",\n        \"description\": \"\"\n      }\n    }\n  ]\n}"
            }
          },
          "metadata": {},
          "execution_count": 12
        }
      ]
    },
    {
      "cell_type": "code",
      "source": [
        "# Visualized. Limit the sample size 15 000 spam and 15 000 non_spam\n",
        "df['label'] = df['label'].astype(int)\n",
        "spam_df = df[df['label'] == 1].sample(15000, random_state=42)\n",
        "non_spam_df = df[df['label'] == 0].sample(15000, random_state=42)\n",
        "df = pd.concat([spam_df, non_spam_df]).sample(frac=1).reset_index(drop=True)\n",
        "\n",
        "#Visualize\n",
        "sns.countplot(data=df, x='label')\n",
        "plt.xticks([0,1], ['Not Spam', 'Spam'])\n",
        "plt.title('Distribution of messages')\n",
        "plt.show()"
      ],
      "metadata": {
        "colab": {
          "base_uri": "https://localhost:8080/",
          "height": 472
        },
        "id": "f42BKgSb_suw",
        "outputId": "947e62c7-41ff-46de-8281-4c317de8049a"
      },
      "execution_count": 13,
      "outputs": [
        {
          "output_type": "display_data",
          "data": {
            "text/plain": [
              "<Figure size 640x480 with 1 Axes>"
            ],
            "image/png": "[encoded data removed]"
          },
          "metadata": {}
        }
      ]
    },
    {
      "cell_type": "code",
      "source": [
        "# Word processing\n",
        "lemmatizer = WordNetLemmatizer()\n",
        "stop_words = set(stopwords.words('english'))\n",
        "\n",
        "corpus = []\n",
        "for document in df[\"text\"]:\n",
        "  document = re.sub('[^a-zA-Z]', ' ', document).lower()\n",
        "  document = document.split()\n",
        "  document = [lemmatizer.lemmatize(word) for word in document if word not in stop_words]\n",
        "  document = list(set(document)) # delete the repeats\n",
        "  document = ' '.join(document)\n",
        "  corpus.append(document)\n",
        "\n",
        "df['text'] = corpus"
      ],
      "metadata": {
        "id": "tofsZnNsCVNf"
      },
      "execution_count": 14,
      "outputs": []
    },
    {
      "cell_type": "code",
      "source": [
        "# Preparation to training\n",
        "\n",
        "X = df['text']\n",
        "y = df['label']\n",
        "\n",
        "X_train, X_test, y_train, y_test = train_test_split(X, y, test_size=0.2, random_state=42)\n",
        "\n",
        "vectorizer = CountVectorizer()\n",
        "X_train_counts = vectorizer.fit_transform(X_train)\n",
        "X_test_counts = vectorizer.transform(X_test)\n"
      ],
      "metadata": {
        "id": "UGhA8KT2EJmj"
      },
      "execution_count": 15,
      "outputs": []
    },
    {
      "cell_type": "code",
      "source": [
        "# Naive Bayes\n",
        "\n",
        "model = MultinomialNB()\n",
        "model.fit(X_train_counts, y_train)\n",
        "y_pred = model.predict(X_test_counts)"
      ],
      "metadata": {
        "id": "GEVx5Ae7JMhI"
      },
      "execution_count": 16,
      "outputs": []
    },
    {
      "cell_type": "code",
      "source": [
        "# Analise of results\n",
        "print(\"Classification report\")\n",
        "print(classification_report(y_test, y_pred, target_names=['Not Spam', 'Spam']))"
      ],
      "metadata": {
        "id": "97j3CetBJkYT",
        "colab": {
          "base_uri": "https://localhost:8080/"
        },
        "outputId": "33ae0031-32da-4d75-efb5-4782d775c35d"
      },
      "execution_count": 17,
      "outputs": [
        {
          "output_type": "stream",
          "name": "stdout",
          "text": [
            "Classification report\n",
            "              precision    recall  f1-score   support\n",
            "\n",
            "    Not Spam       0.93      0.99      0.96      2981\n",
            "        Spam       0.99      0.93      0.96      3019\n",
            "\n",
            "    accuracy                           0.96      6000\n",
            "   macro avg       0.96      0.96      0.96      6000\n",
            "weighted avg       0.96      0.96      0.96      6000\n",
            "\n"
          ]
        }
      ]
    },
    {
      "cell_type": "code",
      "source": [
        "# Output of the most characteristic words for Spam\n",
        "words = vectorizer.get_feature_names_out()\n",
        "log_probs = model.feature_log_prob_[1] # For Spam's class\n",
        "top_spam_indices = np.argsort(log_probs)[-20:]\n",
        "top_spam_words = words[top_spam_indices]\n",
        "\n",
        "print('\\n TOP20 words, the most characteriscic for spam:')\n",
        "for word in reversed(top_spam_words):\n",
        "  print(word)"
      ],
      "metadata": {
        "id": "zb7zVCOAKF2r",
        "colab": {
          "base_uri": "https://localhost:8080/"
        },
        "outputId": "f7ab1fd2-3ad5-4cbd-9001-088890a38bfb"
      },
      "execution_count": 18,
      "outputs": [
        {
          "output_type": "stream",
          "name": "stdout",
          "text": [
            "\n",
            " TOP20 words, the most characteriscic for spam:\n",
            "escapenumber\n",
            "http\n",
            "com\n",
            "price\n",
            "one\n",
            "time\n",
            "day\n",
            "get\n",
            "escapelong\n",
            "new\n",
            "see\n",
            "please\n",
            "like\n",
            "offer\n",
            "may\n",
            "product\n",
            "best\n",
            "www\n",
            "need\n",
            "would\n"
          ]
        }
      ]
    }
  ]
}